{
  "cells": [
    {
      "cell_type": "markdown",
      "metadata": {
        "id": "view-in-github",
        "colab_type": "text"
      },
      "source": [
        "<a href=\"https://colab.research.google.com/github/Barbatosss/CCDATRCL_EXAM_COM221/blob/main/exam1.ipynb\" target=\"_parent\"><img src=\"https://colab.research.google.com/assets/colab-badge.svg\" alt=\"Open In Colab\"/></a>"
      ]
    },
    {
      "cell_type": "markdown",
      "metadata": {
        "id": "yaz2B0KGFehP"
      },
      "source": [
        "# Midterm Exam 💛💙"
      ]
    },
    {
      "cell_type": "markdown",
      "metadata": {
        "id": "_DmK1ONEFehQ"
      },
      "source": [
        "**Instructions** ❗️❗️\n",
        "\n",
        "❌ Do not remove or modify the notebook **sections**, **subsections**, **exam questions** or **any text** in this python notebook\n",
        "\n",
        "✔️ Put your answer in the designated cells below each question"
      ]
    },
    {
      "cell_type": "markdown",
      "metadata": {
        "id": "TMCAXKWCFehR"
      },
      "source": [
        "## Search"
      ]
    },
    {
      "cell_type": "code",
      "execution_count": 81,
      "metadata": {
        "id": "Fy8nEBRRFehR"
      },
      "outputs": [],
      "source": [
        "def linearSearch(my_list, number):\n",
        "\n",
        "    index = 0\n",
        "\n",
        "    for i in my_list:\n",
        "\n",
        "        if my_list[index] == number:\n",
        "            return index\n",
        "\n",
        "        index = index + 1\n",
        "\n",
        "    return -1"
      ]
    },
    {
      "cell_type": "markdown",
      "metadata": {
        "id": "AjAevpueFehS"
      },
      "source": [
        "1. Using **linear search**, write a `findLargestIncrease()` function to find the largest increase in value between two adjacent numbers in your student number `(10 points)`\n",
        "\n",
        "    **Example:**\n",
        "\n",
        "    student_number = [2,0,2,2,6,2,5,1,9,3]\n",
        "\n",
        "    **Expected Output:**\n",
        "\n",
        "    findLargestIncrease(student_number)\n",
        "\n",
        "    Output: Between 1 and 9\n",
        "\n",
        "    **Explanation:**\n",
        "\n",
        "    From this student_number, the largest increase happened from number 1 to number 9"
      ]
    },
    {
      "cell_type": "code",
      "execution_count": 82,
      "metadata": {
        "id": "JE8nEfyJFehS",
        "colab": {
          "base_uri": "https://localhost:8080/"
        },
        "outputId": "afd1613c-b5a4-4709-d187-167aa8617cfa"
      },
      "outputs": [
        {
          "output_type": "stream",
          "name": "stdout",
          "text": [
            "Largest Increase is between 0 and 3\n"
          ]
        }
      ],
      "source": [
        "student_number = [2, 0, 2, 2, 1, 0, 3, 3, 0, 0]\n",
        "jump = []\n",
        "inc = []\n",
        "highest = \"\"\n",
        "\n",
        "def findLargestIncrease(num_list):\n",
        "    for i in range(len(num_list)):\n",
        "        if (i + 1) < len(num_list):\n",
        "            diff = num_list[i + 1] - num_list[i]\n",
        "            jump.append(diff)\n",
        "            inc.append((num_list[i], num_list[i + 1]))\n",
        "\n",
        "    if not jump:\n",
        "        print(\"No increases found in the list.\")\n",
        "        return\n",
        "\n",
        "    max_increase_index = jump.index(max(jump))\n",
        "    highest = inc[max_increase_index]\n",
        "    print(\"Largest Increase is between\", highest[0], \"and\", highest[1])\n",
        "\n",
        "findLargestIncrease(student_number)"
      ]
    },
    {
      "cell_type": "markdown",
      "metadata": {
        "id": "nMyr1fNyFehS"
      },
      "source": [
        "2. Using **linear search**, write a `findLargestDecrease()` function to find the largest decrease in value between two adjacent numbers in your student number `(10 points)`\n",
        "\n",
        "    **Example:**\n",
        "\n",
        "    student_number = [2,0,2,2,6,2,5,1,9,3]\n",
        "\n",
        "    **Expected Output:**\n",
        "\n",
        "    findLargestDecrease(student_number)\n",
        "\n",
        "    Output: Between 9 and 3\n",
        "\n",
        "    **Explanation:**\n",
        "\n",
        "    From this student_number, the largest decrease happened from number 9 to number 3"
      ]
    },
    {
      "cell_type": "code",
      "execution_count": 83,
      "metadata": {
        "id": "bfMfQVbVFehS",
        "colab": {
          "base_uri": "https://localhost:8080/"
        },
        "outputId": "844c4b4d-4070-4ed5-a1ad-1a4f1bc07a90"
      },
      "outputs": [
        {
          "output_type": "stream",
          "name": "stdout",
          "text": [
            "Largest Decrease is between 3 and 0\n"
          ]
        }
      ],
      "source": [
        "student_number = [2, 0, 2, 2, 1, 0, 3, 3, 0, 0]\n",
        "jump = []\n",
        "dec = []\n",
        "lowest = \"\"\n",
        "\n",
        "def findLargestDecrease(num_list):\n",
        "    for i in range(len(num_list)):\n",
        "        if (i + 1) < len(num_list):\n",
        "            diff = num_list[i] - num_list[i + 1]\n",
        "            jump.append(diff)\n",
        "            dec.append((num_list[i], num_list[i + 1]))\n",
        "    if not jump:\n",
        "        print(\"No decreases found in the list.\")\n",
        "        return\n",
        "\n",
        "    max_decrease_index = jump.index(max(jump))\n",
        "    lowest = dec[max_decrease_index]\n",
        "    print(\"Largest Decrease is between\", lowest[0], \"and\", lowest[1])\n",
        "\n",
        "findLargestDecrease(student_number)"
      ]
    },
    {
      "cell_type": "markdown",
      "metadata": {
        "id": "NtKSQn9QFehS"
      },
      "source": [
        "## Linked List"
      ]
    },
    {
      "cell_type": "code",
      "execution_count": 84,
      "metadata": {
        "id": "0HP5zyJcFehS"
      },
      "outputs": [],
      "source": [
        "class Node:\n",
        "\n",
        "    def __init__(self, data):\n",
        "        self.data = data\n",
        "        self.next = None  # null"
      ]
    },
    {
      "cell_type": "code",
      "execution_count": 85,
      "metadata": {
        "id": "A-8Uefe7FehS"
      },
      "outputs": [],
      "source": [
        "class LinkedList:\n",
        "\n",
        "    def __init__(self):\n",
        "        self.head = None\n",
        "\n",
        "    def traverse(self, node):\n",
        "        while node:\n",
        "            print(node.data, end=\" -> \")\n",
        "            node = node.next"
      ]
    },
    {
      "cell_type": "markdown",
      "metadata": {
        "id": "uPgIJJuSFehT"
      },
      "source": [
        "**Instructions** ❗️❗️\n",
        "\n",
        "Use the pre-defined linked list class/functions to create a linked list"
      ]
    },
    {
      "cell_type": "markdown",
      "metadata": {
        "id": "WIwpW7Q2FehT"
      },
      "source": [
        "1. Create a Singly linked list named **num_list** and print all of its elements. `(5 points)`\n",
        "\n",
        "- **num_list** should contain all digits of your student number.\n",
        "\n",
        "    **Expected Output:**\n",
        "\n",
        "    print(num_list)\n",
        "\n",
        "    [2, 0, 2, 2, 1, 2, 3, 4, 5, 6]"
      ]
    },
    {
      "cell_type": "code",
      "execution_count": 86,
      "metadata": {
        "id": "Lihv0JPiFehT",
        "colab": {
          "base_uri": "https://localhost:8080/"
        },
        "outputId": "6f7a0b8f-fd3e-4f8c-f612-45e3b47ee056"
      },
      "outputs": [
        {
          "output_type": "stream",
          "name": "stdout",
          "text": [
            "2 -> 0 -> 2 -> 2 -> 1 -> 0 -> 3 -> 3 -> 0 -> 0 -> "
          ]
        }
      ],
      "source": [
        "num_list = LinkedList()\n",
        "\n",
        "num_list.head = Node(\"2\")\n",
        "node_b = Node(\"0\")\n",
        "node_c = Node(\"2\")\n",
        "node_d = Node(\"2\")\n",
        "node_e = Node(\"1\")\n",
        "node_f = Node(\"0\")\n",
        "node_g = Node(\"3\")\n",
        "node_h = Node(\"3\")\n",
        "node_i = Node(\"0\")\n",
        "node_j = Node(\"0\")\n",
        "\n",
        "num_list.head.next = node_b\n",
        "node_b.next = node_c\n",
        "node_c.next = node_d\n",
        "node_d.next = node_e\n",
        "node_e.next = node_f\n",
        "node_f.next = node_g\n",
        "node_g.next = node_h\n",
        "node_h.next = node_i\n",
        "node_i.next = node_j\n",
        "node_j.next = None\n",
        "\n",
        "\n",
        "num_list.traverse(num_list.head)\n"
      ]
    },
    {
      "cell_type": "markdown",
      "metadata": {
        "id": "dqA2UYrYFehT"
      },
      "source": [
        "2. Write a `hasPrime()` function to test whether a prime number is in the last six digits of **num_list**. `(5 points)`\n",
        "\n",
        "- If a prime number is in the last six digits of **num_list**, the method should return **true**\n",
        "\n",
        "- If a prime number is not in the last six digits of **num_list**, the method should return **false**\n",
        "\n",
        "    **Expected Output:**\n",
        "\n",
        "    hasPrime(num_list)\n",
        "\n",
        "    True"
      ]
    },
    {
      "cell_type": "code",
      "execution_count": 87,
      "metadata": {
        "id": "GYwsQNz5FehT",
        "colab": {
          "base_uri": "https://localhost:8080/"
        },
        "outputId": "9eaf39a0-104a-4b33-d88b-0861020f7c88"
      },
      "outputs": [
        {
          "output_type": "stream",
          "name": "stdout",
          "text": [
            "True\n"
          ]
        }
      ],
      "source": [
        "num_list = LinkedList()\n",
        "\n",
        "num_list.head = Node(\"2\")\n",
        "node_b = Node(\"0\")\n",
        "node_c = Node(\"2\")\n",
        "node_d = Node(\"2\")\n",
        "node_e = Node(\"1\")\n",
        "node_f = Node(\"0\")\n",
        "node_g = Node(\"3\")\n",
        "node_h = Node(\"3\")\n",
        "node_i = Node(\"0\")\n",
        "node_j = Node(\"0\")\n",
        "\n",
        "num_list.head.next = node_b\n",
        "node_b.next = node_c\n",
        "node_c.next = node_d\n",
        "node_d.next = node_e\n",
        "node_e.next = node_f\n",
        "node_f.next = node_g\n",
        "node_g.next = node_h\n",
        "node_h.next = node_i\n",
        "node_i.next = node_j\n",
        "node_j.next = None\n",
        "\n",
        "def is_prime(n):\n",
        "    for i in range(2,int(n**0.5)+1):\n",
        "        if n%i==0:\n",
        "            return False\n",
        "    return True\n",
        "\n",
        "def hasPrime(num_list):\n",
        "    current_node = num_list.head\n",
        "    nodes = [1, 0, 3, 3, 0, 0]\n",
        "\n",
        "    while current_node:\n",
        "        nodes.append(current_node)\n",
        "        if len(nodes) > 6:\n",
        "            nodes.pop(0)\n",
        "        current_node = current_node.next\n",
        "\n",
        "    for node in nodes:\n",
        "        if is_prime:\n",
        "            return True\n",
        "    return False\n",
        "\n",
        "num_list.head = Node(\"2\")\n",
        "\n",
        "result = hasPrime(num_list)\n",
        "print(result)"
      ]
    },
    {
      "cell_type": "markdown",
      "metadata": {
        "id": "5Qb0BOiwFehT"
      },
      "source": [
        "3. Write a `removeZeroes()` function to remove all occurrences of zeroes in **num_list**. `(5 points)`\n",
        "\n",
        "- If a zero is in **num_list**, return **num_list**\n",
        "\n",
        "- If there are no zeroes in **num_list**, return **\"no zeros found\"**\n",
        "\n",
        "    **Expected Output:**\n",
        "\n",
        "    removeZeroes(num_list)\n",
        "\n",
        "    [2, 2, 1, 2, 3, 4, 5, 6]"
      ]
    },
    {
      "cell_type": "code",
      "execution_count": 88,
      "metadata": {
        "id": "k1vAHUYuFehT",
        "colab": {
          "base_uri": "https://localhost:8080/"
        },
        "outputId": "d1b6d1bf-5c32-4804-8a4c-500fb9eee3e0"
      },
      "outputs": [
        {
          "output_type": "stream",
          "name": "stdout",
          "text": [
            "['2', '2', '2', '1', '3', '3']\n"
          ]
        }
      ],
      "source": [
        "def removeZeroes(linked_list):\n",
        "    current = linked_list.head\n",
        "    prev = None\n",
        "\n",
        "    while current:\n",
        "        if current.data == \"0\":\n",
        "            if prev is None:\n",
        "                linked_list.head = current.next\n",
        "            else:\n",
        "                prev.next = current.next\n",
        "        else:\n",
        "            prev = current\n",
        "        current = current.next\n",
        "\n",
        "    if linked_list.head is None:\n",
        "        return \"no zeros found\"\n",
        "    else:\n",
        "        result = []\n",
        "        current = linked_list.head\n",
        "        while current:\n",
        "            result.append(current.data)\n",
        "            current = current.next\n",
        "        return result\n",
        "\n",
        "num_list = LinkedList()\n",
        "\n",
        "num_list.head = Node(\"2\")\n",
        "node_b = Node(\"0\")\n",
        "node_c = Node(\"2\")\n",
        "node_d = Node(\"2\")\n",
        "node_e = Node(\"1\")\n",
        "node_f = Node(\"0\")\n",
        "node_g = Node(\"3\")\n",
        "node_h = Node(\"3\")\n",
        "node_i = Node(\"0\")\n",
        "node_j = Node(\"0\")\n",
        "\n",
        "num_list.head.next = node_b\n",
        "node_b.next = node_c\n",
        "node_c.next = node_d\n",
        "node_d.next = node_e\n",
        "node_e.next = node_f\n",
        "node_f.next = node_g\n",
        "node_g.next = node_h\n",
        "node_h.next = node_i\n",
        "node_i.next = node_j\n",
        "node_j.next = None\n",
        "\n",
        "\n",
        "result = removeZeroes(num_list)\n",
        "print(result)"
      ]
    },
    {
      "cell_type": "markdown",
      "metadata": {
        "id": "SKAlpglNFehT"
      },
      "source": [
        "4. Insert a dash symbol between the 4th and 5th digit in **num_list**. `(5 points)`\n",
        "\n",
        "    **Expected Output:**\n",
        "\n",
        "    print(num_list)\n",
        "\n",
        "    [2, 0, 2, 2, \"-\", 1, 2, 3, 4, 5, 6]"
      ]
    },
    {
      "cell_type": "code",
      "execution_count": 89,
      "metadata": {
        "id": "vF7fimZ-FehT",
        "colab": {
          "base_uri": "https://localhost:8080/"
        },
        "outputId": "a317a345-4eba-4c90-8597-26d5f418ea31"
      },
      "outputs": [
        {
          "output_type": "stream",
          "name": "stdout",
          "text": [
            "2 -> 0 -> 2 -> 2 -> - -> 1 -> 0 -> 3 -> 3 -> 0 -> 0 -> "
          ]
        }
      ],
      "source": [
        "def insertDash(num_list):\n",
        "    current = num_list.head\n",
        "    count = 1\n",
        "\n",
        "    while current:\n",
        "        if count == 4:\n",
        "            new_node = Node(\"-\")\n",
        "            new_node.next = current.next\n",
        "            current.next = new_node\n",
        "            break  # Inserted the dash, exit the loop\n",
        "        current = current.next\n",
        "        count += 1\n",
        "\n",
        "num_list = LinkedList()\n",
        "\n",
        "num_list.head = Node(\"2\")\n",
        "node_b = Node(\"0\")\n",
        "node_c = Node(\"2\")\n",
        "node_d = Node(\"2\")\n",
        "node_e = Node(\"1\")\n",
        "node_f = Node(\"0\")\n",
        "node_g = Node(\"3\")\n",
        "node_h = Node(\"3\")\n",
        "node_i = Node(\"0\")\n",
        "node_j = Node(\"0\")\n",
        "\n",
        "num_list.head.next = node_b\n",
        "node_b.next = node_c\n",
        "node_c.next = node_d\n",
        "node_d.next = node_e\n",
        "node_e.next = node_f\n",
        "node_f.next = node_g\n",
        "node_g.next = node_h\n",
        "node_h.next = node_i\n",
        "node_i.next = node_j\n",
        "node_j.next = None\n",
        "\n",
        "insertDash(num_list)\n",
        "\n",
        "num_list.traverse(num_list.head)"
      ]
    },
    {
      "cell_type": "markdown",
      "metadata": {
        "id": "KkC-LgdxFehT"
      },
      "source": [
        "## Stack"
      ]
    },
    {
      "cell_type": "code",
      "execution_count": 90,
      "metadata": {
        "id": "UYTqB1u_FehU"
      },
      "outputs": [],
      "source": [
        "# Creating a stack\n",
        "def create_stack():\n",
        "    stack = []\n",
        "    return stack\n",
        "\n",
        "\n",
        "def print_stack(stack):\n",
        "\n",
        "    if (check_empty(stack)):\n",
        "        return \"stack is empty\"\n",
        "\n",
        "    # Create a copy of the stack and reverse the elements\n",
        "    tempStack = stack.copy()\n",
        "    tempStack.reverse()\n",
        "\n",
        "    # Print all elements using a loop\n",
        "    for i in tempStack:\n",
        "        print(i)\n",
        "\n",
        "    # Delete the copy to free up memory\n",
        "    del tempStack\n",
        "\n",
        "# Creating an empty stack\n",
        "\n",
        "\n",
        "def check_empty(stack):\n",
        "    return len(stack) == 0\n",
        "\n",
        "\n",
        "# Adding items into the stack\n",
        "def push(stack, item):\n",
        "    stack.append(item)\n",
        "    print(\"pushed item: \" + item)\n",
        "\n",
        "\n",
        "# Removing an element from the stack\n",
        "def pop(stack):\n",
        "    if (check_empty(stack)):\n",
        "        return \"stack is empty\"\n",
        "\n",
        "    return stack.pop()\n",
        "\n",
        "\n",
        "def peek(stack):\n",
        "\n",
        "    # Use negative indexing to display the last element of the list\n",
        "    print(stack[-1])"
      ]
    },
    {
      "cell_type": "markdown",
      "metadata": {
        "id": "wLAQchs8FehU"
      },
      "source": [
        "**Instructions** ❗️❗️\n",
        "\n",
        "Use the pre-defined stack class/functions to create a stack"
      ]
    },
    {
      "cell_type": "markdown",
      "metadata": {
        "id": "37cg9BoCFehU"
      },
      "source": [
        "1. Create two (2) stacks named **name_stack** and **num_stack** `(5 points)`\n",
        "\n",
        "- **name_stack** should contain all letters of your first name.\n",
        "- **num_stack** should contain all digits of your student number.\n",
        "\n",
        "    **Expected Output:**\n",
        "\n",
        "    print(name_stack)\n",
        "\n",
        "    ['E', 'L', 'I', 'Z', 'E', 'R']\n",
        "\n",
        "    print(num_stack)\n",
        "\n",
        "    [2,0,2,2,1,2,3,4,5,6]"
      ]
    },
    {
      "cell_type": "code",
      "execution_count": 91,
      "metadata": {
        "id": "HlUIUQzQFehU",
        "colab": {
          "base_uri": "https://localhost:8080/"
        },
        "outputId": "f49481bd-d4d4-4dd6-b2f5-9843093f06c8"
      },
      "outputs": [
        {
          "output_type": "stream",
          "name": "stdout",
          "text": [
            "pushed item: F\n",
            "pushed item: R\n",
            "pushed item: A\n",
            "pushed item: N\n",
            "pushed item: Z\n",
            "pushed item: E\n",
            "pushed item: 2\n",
            "pushed item: 0\n",
            "pushed item: 2\n",
            "pushed item: 2\n",
            "pushed item: 1\n",
            "pushed item: 0\n",
            "pushed item: 3\n",
            "pushed item: 3\n",
            "pushed item: 0\n",
            "pushed item: 0\n",
            "['F', 'R', 'A', 'N', 'Z', 'E']\n",
            "['2', '0', '2', '2', '1', '0', '3', '3', '0', '0']\n"
          ]
        }
      ],
      "source": [
        "name_stack = create_stack()\n",
        "num_stack = create_stack()\n",
        "name = \"FRANZE\"\n",
        "student_number =\"2022103300\"\n",
        "\n",
        "for i in range(len(name)):\n",
        "  push(name_stack, name[i])\n",
        "for i in range(len(student_number)):\n",
        "  push(num_stack, str(student_number[i]))\n",
        "\n",
        "print(name_stack)\n",
        "print(num_stack)"
      ]
    },
    {
      "cell_type": "markdown",
      "metadata": {
        "id": "8cySe9LXFehU"
      },
      "source": [
        "2. Create a stack named **my_stack** that follows the following format: `(5 points)`\n",
        "\n",
        "- The first element should be the **5th digit in your student number**\n",
        "- The succeeding elements should be the letters of your **first name**\n",
        "- The last element should be the **last digit of your student number**\n",
        "\n",
        "    **Expected Output:**\n",
        "\n",
        "    my_stack = [1, E, L, I, Z, E, R, 6]"
      ]
    },
    {
      "cell_type": "code",
      "execution_count": 92,
      "metadata": {
        "id": "bEnCoAhjFehU",
        "colab": {
          "base_uri": "https://localhost:8080/"
        },
        "outputId": "5aa4d26a-c7a9-4721-9649-62a58e8205e2"
      },
      "outputs": [
        {
          "output_type": "stream",
          "name": "stdout",
          "text": [
            "pushed item: 1\n",
            "pushed item: F\n",
            "pushed item: R\n",
            "pushed item: A\n",
            "pushed item: N\n",
            "pushed item: Z\n",
            "pushed item: E\n",
            "pushed item: 0\n",
            "my_stack = ['1', 'F', 'R', 'A', 'N', 'Z', 'E', '0']\n"
          ]
        }
      ],
      "source": [
        "my_stack = create_stack()\n",
        "\n",
        "student_number = \"2022103300\"\n",
        "first_name = \"FRANZE\"\n",
        "\n",
        "push(my_stack, str(student_number[4]))\n",
        "for letter in first_name:\n",
        "    push(my_stack, letter)\n",
        "push(my_stack, str(student_number[-1]))\n",
        "\n",
        "print(\"my_stack =\", my_stack)"
      ]
    },
    {
      "cell_type": "markdown",
      "metadata": {
        "id": "8a8_KP5nFehU"
      },
      "source": [
        "3. Write a `verifyStack()` function that will take in `my_stack` and check if its format has been followed `(10 points)`\n",
        "\n",
        "- Return **True** if the format has been followed\n",
        "- Return **False** if the format was not followed\n",
        "- Verify the format by checking the contents of **my_stack** with **name_stack** and **num_stack**\n",
        "\n",
        "    **Expected Output:**\n",
        "\n",
        "    my_stack = [1, E, L, I, Z, E, R, 6]\n",
        "\n",
        "    verifyStack(my_stack)\n",
        "\n",
        "    True\n",
        "\n",
        "    my_stack = [1, S, L, I, Z, E, R, 7]\n",
        "\n",
        "    verifyStack(my_stack)\n",
        "\n",
        "    False"
      ]
    },
    {
      "cell_type": "code",
      "execution_count": 93,
      "metadata": {
        "id": "RdANSxD0FehU",
        "colab": {
          "base_uri": "https://localhost:8080/"
        },
        "outputId": "5c880549-13a2-4321-fdf3-94ca39c60b09"
      },
      "outputs": [
        {
          "output_type": "stream",
          "name": "stdout",
          "text": [
            "[1, 'F', 'R', 'A', 'N', 'Z', 'E', 0]\n",
            "True\n",
            "[1, 'E', 'Z', 'N', 'A', 'R', 'F', 7]\n",
            "False\n"
          ]
        }
      ],
      "source": [
        "def verifyStack(my_stack):\n",
        "    name_stack = [\"F\", \"R\", \"A\", \"N\", \"Z\", \"E\"]\n",
        "    num_stack = [2, 0, 2, 2, 1, 0, 3, 3, 0, 0]\n",
        "\n",
        "    if len(my_stack) != len(name_stack) + 2:\n",
        "        return False\n",
        "\n",
        "    if my_stack[0] != num_stack[4]:\n",
        "        return False\n",
        "\n",
        "    if my_stack[-1] != num_stack[-1]:\n",
        "        return False\n",
        "\n",
        "    for i in range(len(name_stack)):\n",
        "        if my_stack[i + 1] != name_stack[i]:\n",
        "            return False\n",
        "\n",
        "    return True\n",
        "\n",
        "my_stack1 = [1, \"F\", \"R\", \"A\", \"N\", \"Z\", \"E\", 0]\n",
        "print(my_stack1)\n",
        "print(verifyStack(my_stack1))\n",
        "\n",
        "my_stack2 = [1, \"E\", \"Z\", \"N\", \"A\", \"R\", \"F\", 7]\n",
        "print(my_stack2)\n",
        "print(verifyStack(my_stack2))\n"
      ]
    },
    {
      "cell_type": "markdown",
      "metadata": {
        "id": "UC5C64B2FehU"
      },
      "source": [
        "## Queue"
      ]
    },
    {
      "cell_type": "code",
      "execution_count": 94,
      "metadata": {
        "id": "NJJ0j0LHFehU"
      },
      "outputs": [],
      "source": [
        "class Queue:\n",
        "    def __init__(self):\n",
        "        self.queue = []\n",
        "\n",
        "    # Add an element\n",
        "    def enqueue(self, item):\n",
        "        self.queue.append(item)\n",
        "\n",
        "    # Remove an element\n",
        "    def dequeue(self):\n",
        "        if len(self.queue) < 1:\n",
        "            return None\n",
        "        return self.queue.pop(0)\n",
        "\n",
        "    # Display  the queue\n",
        "    def display(self):\n",
        "        print(self.queue)\n",
        "\n",
        "    def size(self):\n",
        "        return len(self.queue)\n",
        "\n",
        "    def peek(self):\n",
        "        return self.queue[0]"
      ]
    },
    {
      "cell_type": "markdown",
      "metadata": {
        "id": "80OekpbeFehV"
      },
      "source": [
        "**Instructions** ❗️❗️\n",
        "\n",
        "Use the pre-defined queue class/functions to create a Queue"
      ]
    },
    {
      "cell_type": "markdown",
      "metadata": {
        "id": "_Hf0OP5cFehV"
      },
      "source": [
        "1. Create a simple queue named **num_queue** `(5 points)`\n",
        "\n",
        "- **num_queue** should contain all digits of your student number.\n",
        "\n",
        "    **Expected Output:**\n",
        "\n",
        "    print(num_queue)\n",
        "\n",
        "    [2,0,2,2,1,2,3,4,5,6]"
      ]
    },
    {
      "cell_type": "code",
      "execution_count": 95,
      "metadata": {
        "id": "_mgmE4ArFehV",
        "colab": {
          "base_uri": "https://localhost:8080/"
        },
        "outputId": "7c49a29b-1086-41bf-c22a-b7c906be39d9"
      },
      "outputs": [
        {
          "output_type": "stream",
          "name": "stdout",
          "text": [
            "['2', '0', '2', '2', '1', '0', '3', '3', '0', '0']\n"
          ]
        }
      ],
      "source": [
        "num_queue = Queue()\n",
        "student_number = \"2022103300\"\n",
        "\n",
        "for i in range (len(student_number)):\n",
        "  num_queue.enqueue(student_number[i])\n",
        "\n",
        "num_queue.display()"
      ]
    },
    {
      "cell_type": "markdown",
      "metadata": {
        "id": "1pHG8t6DFehV"
      },
      "source": [
        "2. Write a `getMax()` or `getMin()` function for **num_queue** `(5 points)`\n",
        "\n",
        "- If your student number ends with an odd number, create a `getMax()` function that will return the largest number in **num_queue**\n",
        "- If your student number ends with an even number, create a `getMin()` function that will return the lowest number in **num_queue**\n",
        "\n",
        "    **Expected Output for getMax():**\n",
        "\n",
        "    getMax(num_queue)\n",
        "\n",
        "    6\n",
        "\n",
        "    **Expected Output for getMin():**\n",
        "\n",
        "    getMin(num_queue)\n",
        "\n",
        "    0"
      ]
    },
    {
      "cell_type": "code",
      "execution_count": 96,
      "metadata": {
        "id": "itj2U610FehV",
        "colab": {
          "base_uri": "https://localhost:8080/"
        },
        "outputId": "bd1519cd-000f-4c3a-90ef-d46d883520dc"
      },
      "outputs": [
        {
          "output_type": "stream",
          "name": "stdout",
          "text": [
            "[2, 0, 2, 2, 1, 0, 3, 3, 0, 0]\n",
            "0\n"
          ]
        }
      ],
      "source": [
        "num_queue = Queue()\n",
        "student_number = \"2022103300\"\n",
        "\n",
        "for digit in student_number:\n",
        "    num_queue.enqueue(int(digit))\n",
        "\n",
        "num_queue.display()\n",
        "\n",
        "def getMax(queue):\n",
        "    if queue.size() == 0:\n",
        "        return \"Queue is empty\"\n",
        "    max_val = queue.peek()\n",
        "    while queue.size() > 0:\n",
        "        current = queue.dequeue()\n",
        "        if current > max_val:\n",
        "            max_val = current\n",
        "    return max_val\n",
        "\n",
        "def getMin(queue):\n",
        "    if queue.size() == 0:\n",
        "        return \"Queue is empty\"\n",
        "    min_val = queue.peek()\n",
        "    while queue.size() > 0:\n",
        "        current = queue.dequeue()\n",
        "        if current < min_val:\n",
        "            min_val = current\n",
        "    return min_val\n",
        "\n",
        "last_digit = int(student_number[-1])\n",
        "if last_digit % 2 == 0:\n",
        "    result = getMin(num_queue)\n",
        "    print(result)\n",
        "else:\n",
        "    result = getMax(num_queue)\n",
        "    print(result)"
      ]
    },
    {
      "cell_type": "markdown",
      "metadata": {
        "id": "YkgmP6GwFehV"
      },
      "source": [
        "3. Write a `getOdd()` or `getEven()` function for  **num_queue** `(5 points)`\n",
        "\n",
        "- If your student number ends with an **odd number**, create a `getOdd()` function that will return all odd numbers in **num_queue**\n",
        "- If your student number ends with an **even number**, create a `getEven()` function that will return all even numbers in **num_queue**\n",
        "\n",
        "    **Expected Output for getOdd():**\n",
        "\n",
        "    getOdd(num_queue)\n",
        "\n",
        "    [1, 3, 5]\n",
        "\n",
        "    **Expected Output for getEven():**\n",
        "\n",
        "    getEven(num_queue)\n",
        "\n",
        "    [0, 2, 4, 6]"
      ]
    },
    {
      "cell_type": "code",
      "execution_count": 97,
      "metadata": {
        "id": "2Bc7E1zNFehV",
        "colab": {
          "base_uri": "https://localhost:8080/"
        },
        "outputId": "fb468ad9-2992-46eb-b992-07ce21e6c703"
      },
      "outputs": [
        {
          "output_type": "stream",
          "name": "stdout",
          "text": [
            "[2, 0, 2, 2, 0, 0, 0]\n"
          ]
        }
      ],
      "source": [
        "num_queue = Queue()\n",
        "student_number = \"2022103300\"\n",
        "\n",
        "for digit in student_number:\n",
        "    num_queue.enqueue(int(digit))\n",
        "\n",
        "def getOdd(queue):\n",
        "    odd_numbers = [x for x in queue.queue if x % 2 == 1]\n",
        "    return odd_numbers\n",
        "\n",
        "def getEven(queue):\n",
        "    even_numbers = [x for x in queue.queue if x % 2 == 0]\n",
        "    return even_numbers\n",
        "\n",
        "last_digit = int(student_number[-1])\n",
        "if last_digit % 2 == 0:\n",
        "    result = getEven(num_queue)\n",
        "    print(result)\n",
        "else:\n",
        "    result = getOdd(num_queue)\n",
        "    print(result)"
      ]
    },
    {
      "cell_type": "markdown",
      "metadata": {
        "id": "kuzWF5g4FehV"
      },
      "source": [
        "4. Write a `removeDup()` function that will remove all duplicates in **num_queue** `(5 points)`\n",
        "\n",
        "    **Expected Output:**\n",
        "\n",
        "    removeDup(num_queue)\n",
        "\n",
        "    [2,0,1,3,4,5,6]"
      ]
    },
    {
      "cell_type": "code",
      "execution_count": 98,
      "metadata": {
        "id": "I8LeQP8MFehY"
      },
      "outputs": [],
      "source": [
        "# put your answer here"
      ]
    },
    {
      "cell_type": "markdown",
      "metadata": {
        "id": "LVfZTh8YFehZ"
      },
      "source": [
        "## Sort"
      ]
    },
    {
      "cell_type": "markdown",
      "metadata": {
        "id": "bm9lonfzFehZ"
      },
      "source": [
        "**Instructions** ❗️❗️\n",
        "\n",
        "Use the any sorting algoritms"
      ]
    },
    {
      "cell_type": "markdown",
      "metadata": {
        "id": "EJTlxhEdFehZ"
      },
      "source": [
        "1. Using any sorting algorithm, sort the **last 6 digits** of your student number in ascending order `(5 points)`\n",
        "\n",
        "    **Example:**\n",
        "\n",
        "    student_number = [2,0,2,2,6,2,5,1,3,4]\n",
        "\n",
        "    **Expected Output:**\n",
        "\n",
        "    print(student_number)\n",
        "\n",
        "    [2,0,2,2,1,2,3,4,5,6]\n"
      ]
    },
    {
      "cell_type": "code",
      "execution_count": 99,
      "metadata": {
        "id": "MkZKfveOFehZ",
        "colab": {
          "base_uri": "https://localhost:8080/"
        },
        "outputId": "dd65c353-1ce0-4348-fdaf-14dc4bf3e587"
      },
      "outputs": [
        {
          "output_type": "stream",
          "name": "stdout",
          "text": [
            "[2, 0, 2, 2, 0, 0, 0, 1, 3, 3]\n"
          ]
        }
      ],
      "source": [
        "student_number = [2, 0, 2, 2, 1, 0, 3, 3, 0, 0]\n",
        "\n",
        "first_four_digits = student_number[:4]\n",
        "\n",
        "last_six_digits = student_number[4:]\n",
        "for i in range(len(last_six_digits) - 1):\n",
        "    for j in range(0, len(last_six_digits) - i - 1):\n",
        "        if last_six_digits[j] > last_six_digits[j + 1]:\n",
        "            last_six_digits[j], last_six_digits[j + 1] = last_six_digits[j + 1], last_six_digits[j]\n",
        "\n",
        "sorted_student_number = first_four_digits + last_six_digits\n",
        "\n",
        "student_number[:] = sorted_student_number\n",
        "\n",
        "print(student_number)"
      ]
    },
    {
      "cell_type": "markdown",
      "metadata": {
        "id": "sC2JZRZMFehZ"
      },
      "source": [
        "2. Using your student_number, separately sort the even numbers in **increasing order** and the odd numbers in **decreasing order** `(15 points)`\n",
        "\n",
        "    **Example:**\n",
        "\n",
        "    student_number = [2,0,2,2,1,2,3,4,5,6]\n",
        "\n",
        "    **Expected Output:**\n",
        "\n",
        "    print(student_number)\n",
        "\n",
        "    [0,2,2,2,2,4,6,5,3,1]"
      ]
    },
    {
      "cell_type": "code",
      "execution_count": 100,
      "metadata": {
        "id": "hWOh_ohcFehZ",
        "colab": {
          "base_uri": "https://localhost:8080/"
        },
        "outputId": "89e4f5b0-d1a0-4e15-b1ac-0794925c4f5d"
      },
      "outputs": [
        {
          "output_type": "stream",
          "name": "stdout",
          "text": [
            "[0, 0, 0, 0, 2, 2, 2, 3, 3, 1]\n"
          ]
        }
      ],
      "source": [
        "student_number = [2, 0, 2, 2, 1, 0, 3, 3, 0, 0]\n",
        "\n",
        "even_numbers = []\n",
        "odd_numbers = []\n",
        "\n",
        "for num in student_number:\n",
        "    if num % 2 == 0:\n",
        "        even_numbers.append(num)\n",
        "    else:\n",
        "        odd_numbers.append(num)\n",
        "\n",
        "n = len(even_numbers)\n",
        "for i in range(n - 1):\n",
        "    for j in range(0, n - i - 1):\n",
        "        if even_numbers[j] > even_numbers[j + 1]:\n",
        "            even_numbers[j], even_numbers[j + 1] = even_numbers[j + 1], even_numbers[j]\n",
        "\n",
        "n = len(odd_numbers)\n",
        "for i in range(n - 1):\n",
        "    for j in range(0, n - i - 1):\n",
        "        if odd_numbers[j] < odd_numbers[j + 1]:\n",
        "            odd_numbers[j], odd_numbers[j + 1] = odd_numbers[j + 1], odd_numbers[j]\n",
        "\n",
        "sorted_student_number = even_numbers + odd_numbers\n",
        "\n",
        "student_number[:] = sorted_student_number\n",
        "\n",
        "print(student_number)"
      ]
    }
  ],
  "metadata": {
    "kernelspec": {
      "display_name": "Python 3",
      "language": "python",
      "name": "python3"
    },
    "language_info": {
      "codemirror_mode": {
        "name": "ipython",
        "version": 3
      },
      "file_extension": ".py",
      "mimetype": "text/x-python",
      "name": "python",
      "nbconvert_exporter": "python",
      "pygments_lexer": "ipython3",
      "version": "3.9.13"
    },
    "orig_nbformat": 4,
    "colab": {
      "provenance": [],
      "include_colab_link": true
    }
  },
  "nbformat": 4,
  "nbformat_minor": 0
}